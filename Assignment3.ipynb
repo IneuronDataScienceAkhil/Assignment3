{
 "cells": [
  {
   "cell_type": "markdown",
   "id": "9260c2b7",
   "metadata": {},
   "source": [
    "1. Why are functions advantageous to have in your programs?\n",
    "\n",
    "Ans:-Advantage Of Function in Our Code Are :-\n",
    "\n",
    "1.Code Reusability.\n",
    "\n",
    "2.Enhance The Readibility of the program .\n"
   ]
  },
  {
   "cell_type": "markdown",
   "id": "70c9bfb0",
   "metadata": {},
   "source": [
    "2. When does the code in a function run: when it specified or when it called?\n",
    "\n",
    "Ans:- When We call The function with it's name then it run. "
   ]
  },
  {
   "cell_type": "markdown",
   "id": "9cee6336",
   "metadata": {},
   "source": [
    "3. What statement creates a function?\n",
    "\n",
    "Ans:-It consists of the name of the function followed by a list of arguments enclosed in\n",
    "\n",
    "parentheses. Using the output from one function call as the input to anothe"
   ]
  },
  {
   "cell_type": "markdown",
   "id": "60b26ab9",
   "metadata": {},
   "source": [
    "4. What is the difference between a function and a function call?\n",
    "\n",
    "Ans:- Making a function using \"def\" keyword followed by the function name and writing logic under the indentation of the function.\n",
    "\n",
    "By Writing the function .The functional does n't run.\n",
    "\n",
    "For making a function call or to execute the function we need to call the function"
   ]
  },
  {
   "cell_type": "markdown",
   "id": "ab325a8b",
   "metadata": {},
   "source": [
    "5. How many global scopes are there in a Python program? How many local scopes?\n",
    "\n",
    "Ans:-We Can Create Only 1 Global variable Under the python Program .When you use an unqualified name inside a function, Python searches three scopes—the local (L), then the global (G), and then the built-in (B)—and stops at the first place the name is found."
   ]
  },
  {
   "cell_type": "markdown",
   "id": "47442da0",
   "metadata": {},
   "source": [
    "6. What happens to variables in a local scope when the function call returns?\n",
    "\n",
    "Ans:-A local variable retains its value until the next time the function is called A local variable becomes undefined after the function call completes The local variable can be used outside the function any time after the function call completes."
   ]
  },
  {
   "cell_type": "markdown",
   "id": "309758ae",
   "metadata": {},
   "source": [
    "7. What is the concept of a return value? Is it possible to have a return value in an expression?\n",
    "\n",
    "Ans:- The Concept of the return value is that When we make a function then the function can always return something value .\n",
    "\n",
    "No It does not possible to return the value in an expression"
   ]
  },
  {
   "cell_type": "markdown",
   "id": "f5b3d5e1",
   "metadata": {},
   "source": [
    "8. If a function does not have a return statement, what is the return value of a call to that function?\n",
    "\n",
    "Ans:-If a function does not have an return statement .It simply means that we don't return anything . OR when we are going to call the function it simply return the \"None\" value"
   ]
  },
  {
   "cell_type": "markdown",
   "id": "13ba468a",
   "metadata": {},
   "source": [
    "9. How do you make a function variable refer to the global variable?\n",
    "\n",
    "Ans:- if we want to make the function variable to the global variable .we simply use the global inbuilt keyword front of the function varaible."
   ]
  },
  {
   "cell_type": "code",
   "execution_count": 4,
   "id": "0e7e96e0",
   "metadata": {},
   "outputs": [],
   "source": [
    "# Here the varaible a and b are called function variable we are not going\n",
    "# to axis these varaible outside the function\n",
    "def func():\n",
    "    a=10\n",
    "    b=15\n",
    "    return a+b\n"
   ]
  },
  {
   "cell_type": "code",
   "execution_count": 2,
   "id": "2bbccf8c",
   "metadata": {},
   "outputs": [
    {
     "data": {
      "text/plain": [
       "25"
      ]
     },
     "execution_count": 2,
     "metadata": {},
     "output_type": "execute_result"
    }
   ],
   "source": [
    "func()"
   ]
  },
  {
   "cell_type": "code",
   "execution_count": 3,
   "id": "908385c4",
   "metadata": {},
   "outputs": [
    {
     "ename": "NameError",
     "evalue": "name 'b' is not defined",
     "output_type": "error",
     "traceback": [
      "\u001b[1;31m---------------------------------------------------------------------------\u001b[0m",
      "\u001b[1;31mNameError\u001b[0m                                 Traceback (most recent call last)",
      "\u001b[1;32m~\\AppData\\Local\\Temp/ipykernel_7472/324135452.py\u001b[0m in \u001b[0;36m<module>\u001b[1;34m\u001b[0m\n\u001b[1;32m----> 1\u001b[1;33m \u001b[0mprint\u001b[0m\u001b[1;33m(\u001b[0m\u001b[0mb\u001b[0m\u001b[1;33m)\u001b[0m\u001b[1;33m\u001b[0m\u001b[1;33m\u001b[0m\u001b[0m\n\u001b[0m",
      "\u001b[1;31mNameError\u001b[0m: name 'b' is not defined"
     ]
    }
   ],
   "source": [
    "print(b)"
   ]
  },
  {
   "cell_type": "code",
   "execution_count": 5,
   "id": "68530223",
   "metadata": {},
   "outputs": [
    {
     "data": {
      "text/plain": [
       "25"
      ]
     },
     "execution_count": 5,
     "metadata": {},
     "output_type": "execute_result"
    }
   ],
   "source": [
    "# making the global variable in the function to axis the function variable outside the function\n",
    "def func():\n",
    "    a=10\n",
    "    global b\n",
    "    b=15\n",
    "    return a+b\n",
    "func()"
   ]
  },
  {
   "cell_type": "code",
   "execution_count": 6,
   "id": "7f8c8c99",
   "metadata": {},
   "outputs": [
    {
     "name": "stdout",
     "output_type": "stream",
     "text": [
      "15\n"
     ]
    }
   ],
   "source": [
    "print(b)"
   ]
  },
  {
   "cell_type": "markdown",
   "id": "b009fae6",
   "metadata": {},
   "source": [
    "10. What is the data type of None?\n",
    "\n",
    "Ans:-data type of the None is NoneType"
   ]
  },
  {
   "cell_type": "markdown",
   "id": "57388f91",
   "metadata": {},
   "source": [
    "11. What does the sentence import areallyourpetsnamederic do?\n",
    "\n",
    "Ans:That import statement imports a module named areallyourpetsnamederic.if doesn't found it simply throw the error ."
   ]
  },
  {
   "cell_type": "markdown",
   "id": "0d14de1b",
   "metadata": {},
   "source": [
    "12. If you had a bacon() feature in a spam module, what would you call it after importing spam?\n",
    "\n",
    "Ans:-We can call by \"spam.bacon()\""
   ]
  },
  {
   "cell_type": "markdown",
   "id": "c80a6043",
   "metadata": {},
   "source": [
    "13. What can you do to save a programme from crashing if it encounters an error?\n",
    "\n",
    "Ans:- for that case we use the error handling method in python .We Use try and except case in python .The program for that can be written down.-"
   ]
  },
  {
   "cell_type": "code",
   "execution_count": 8,
   "id": "536b4138",
   "metadata": {},
   "outputs": [
    {
     "ename": "NameError",
     "evalue": "name 'x' is not defined",
     "output_type": "error",
     "traceback": [
      "\u001b[1;31m---------------------------------------------------------------------------\u001b[0m",
      "\u001b[1;31mNameError\u001b[0m                                 Traceback (most recent call last)",
      "\u001b[1;32m~\\AppData\\Local\\Temp/ipykernel_7472/1353120783.py\u001b[0m in \u001b[0;36m<module>\u001b[1;34m\u001b[0m\n\u001b[1;32m----> 1\u001b[1;33m \u001b[0mprint\u001b[0m\u001b[1;33m(\u001b[0m\u001b[0mx\u001b[0m\u001b[1;33m)\u001b[0m\u001b[1;33m\u001b[0m\u001b[1;33m\u001b[0m\u001b[0m\n\u001b[0m",
      "\u001b[1;31mNameError\u001b[0m: name 'x' is not defined"
     ]
    }
   ],
   "source": [
    "# without using the try and except \n",
    "print(x)"
   ]
  },
  {
   "cell_type": "code",
   "execution_count": 9,
   "id": "9a6a8343",
   "metadata": {},
   "outputs": [
    {
     "name": "stdout",
     "output_type": "stream",
     "text": [
      "name 'x' is not defined\n"
     ]
    }
   ],
   "source": [
    "# USing try and except \n",
    "try:\n",
    "    print(x)\n",
    "except Exception as e:\n",
    "    print(e)"
   ]
  },
  {
   "cell_type": "markdown",
   "id": "f25fd7a2",
   "metadata": {},
   "source": [
    "14. What is the purpose of the try clause? What is the purpose of the except clause?\n",
    "\n",
    "Ans:- The Purpose of try clause is simply execute the command which can be written under the try clause .if it can execute it successfully , then the program does not go to the except clause but if there was an error in the program that can be run under the try clause . it comes under the except block and run it .Without giving any error."
   ]
  },
  {
   "cell_type": "code",
   "execution_count": null,
   "id": "ab7f52cb",
   "metadata": {},
   "outputs": [],
   "source": []
  }
 ],
 "metadata": {
  "kernelspec": {
   "display_name": "Python 3 (ipykernel)",
   "language": "python",
   "name": "python3"
  },
  "language_info": {
   "codemirror_mode": {
    "name": "ipython",
    "version": 3
   },
   "file_extension": ".py",
   "mimetype": "text/x-python",
   "name": "python",
   "nbconvert_exporter": "python",
   "pygments_lexer": "ipython3",
   "version": "3.9.7"
  }
 },
 "nbformat": 4,
 "nbformat_minor": 5
}
